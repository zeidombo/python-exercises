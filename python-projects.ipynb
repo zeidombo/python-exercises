{
 "cells": [
  {
   "cell_type": "markdown",
   "id": "60aa3b40-bd27-4ee7-b16f-c45867fe0bc5",
   "metadata": {},
   "source": [
    "# P1\n",
    "Level 1  \n",
    "Question:  \n",
    "Write a program which can compute the factorial of a given numbers.\n",
    "The results should be printed in a comma-separated sequence on a single line.\n",
    "Suppose the following input is supplied to the program:  \n",
    "input: 8  \n",
    "Then, the output should be:  \n",
    "40320  \n",
    "Hints:  \n",
    "In case of input data being supplied to the question, it should be assumed to be a console input.  "
   ]
  },
  {
   "cell_type": "markdown",
   "id": "886eb8a6-880b-43a8-828a-ac565acc2dad",
   "metadata": {},
   "source": [
    "# P2\n",
    "Level 1  \n",
    "With a given integral number n, write a program to generate a dictionary that contains (i, i*i) such that is an integral number\n",
    "between 1 and n (both included). and then the program should print the dictionary.\n",
    "Suppose the following input is supplied to the program:  \n",
    "input: 8   \n",
    "Then, the output should be:    \n",
    "{1: 1, 2: 4, 3: 9, 4: 16, 5: 25, 6: 36, 7: 49, 8: 64}  \n",
    "Hints:  \n",
    "In case of input data being supplied to the question, it should be assumed to be a console input.\n"
   ]
  },
  {
   "cell_type": "markdown",
   "id": "b7ef5bf3-21fc-44dd-a483-5e77f940b9c4",
   "metadata": {},
   "source": [
    "# P3\n",
    "Level 1\n",
    "Write a program which accepts a sequence of comma-separated numbers from console and generate a list and a tuple which contains\n",
    "every number.  \n",
    "Suppose the following input is supplied to the program:  \n",
    "34,67,55,33,12,98  \n",
    "Then, the output should be:  \n",
    "['34', '67', '55', '33', '12', '98']  \n",
    "('34', '67', '55', '33', '12', '98')"
   ]
  },
  {
   "cell_type": "markdown",
   "id": "2e60fad8-8c8a-46be-8bd5-d7bbc3a4c04e",
   "metadata": {},
   "source": [
    "# P4\n",
    "Level 1  \n",
    "Question:  \n",
    "Define a class which has at least two methods: getString: to get a string from console input  \n",
    "printString: to print the string in upper case.  \n",
    "Also please include simple test function to test the class methods."
   ]
  },
  {
   "cell_type": "markdown",
   "id": "dbf8090f-3487-429d-9df7-e29b92a2fded",
   "metadata": {},
   "source": [
    "# P5\n",
    "Level 1  \n",
    "Question:  \n",
    "Write a program that calculates and prints the value according to the given formula:  \n",
    "Q = Square root of [(2 * C * D)/H]  \n",
    "Following are the fixed values of C and H:  \n",
    "C is 50. H is 30.  \n",
    "D is the variable whose values should be input to your program in a comma-separated sequence.  \n",
    "Example  \n",
    "Let us assume the following comma separated input sequence is given to the program:  \n",
    "100,150,180  \n",
    "The output of the program should be:  \n",
    "18,22,24  \n",
    "Hints:  \n",
    "If the output received is in decimal form, it should be rounded off to its nearest value (for example, if the output received is 26.0,  \n",
    "it should be printed as 26)  "
   ]
  },
  {
   "cell_type": "markdown",
   "id": "d61c95f0-8122-4539-a521-aafa1cdf691a",
   "metadata": {},
   "source": [
    "# P6\n",
    "\n",
    "Level 2  \n",
    "Question:  \n",
    "Write a program that accepts a comma separated sequence of words as input and prints the words in a comma-separated  \n",
    "sequence after sorting them alphabetically.  \n",
    "Suppose the following input is supplied to the program:  \n",
    "without,hello,bag,world  \n",
    "Then, the output should be:  \n",
    "bag,hello,without,world  "
   ]
  },
  {
   "cell_type": "markdown",
   "id": "d2ed4172-ba6e-4148-be82-11ad4d156bca",
   "metadata": {},
   "source": [
    "# P7\n",
    "Level 2  \n",
    "Write a program that accepts sequence of lines as input and prints the lines after making all characters in the sentence capitalized.  \n",
    "Suppose the following input is supplied to the program:  \n",
    "Hello world  \n",
    "Practice makes perfect  \n",
    "Then, the output should be:  \n",
    "HELLO WORLD  \n",
    "PRACTICE MAKES PERFECT  "
   ]
  },
  {
   "cell_type": "markdown",
   "id": "8a0f3ee5-e848-4861-b111-6b0d43dd9ae9",
   "metadata": {},
   "source": [
    "# P8\n",
    "\n",
    "Level 2  \n",
    "Question:  \n",
    "Write a program that accepts a sequence of whitespace separated words as input and prints the words after removing  \n",
    "all duplicate words and sorting them alphanumerically.  \n",
    "Suppose the following input is supplied to the program:  \n",
    "hello world and practice makes perfect and hello world again  \n",
    "Then, the output should be:  \n",
    "again and hello makes perfect practice world"
   ]
  },
  {
   "cell_type": "markdown",
   "id": "90fd2c8b-2654-4ac0-98a3-939652c286a5",
   "metadata": {},
   "source": [
    "# P9\n",
    "\n",
    "Level 2  \n",
    "Question:  \n",
    "Write a program, which will find all such numbers between 1000 and 3000 (both included) such that each digit of the number is an  \n",
    "even number.  \n",
    "The numbers obtained should be printed in a comma-separated sequence on a single line.  "
   ]
  },
  {
   "cell_type": "markdown",
   "id": "c2db74f9-3182-458c-b316-a91bb549d77b",
   "metadata": {},
   "source": [
    "# P10\n",
    "\n",
    "Level 2  \n",
    "Question:  \n",
    "Write a program that accepts a sentence and calculate the number of letters and digits.  \n",
    "Suppose the following input is supplied to the program:  \n",
    "hello world! 123  \n",
    "Then, the output should be:  \n",
    "LETTERS 10  \n",
    "DIGITS 3  "
   ]
  },
  {
   "cell_type": "markdown",
   "id": "a098891f-3407-4b7b-bbb0-1d4db978d08f",
   "metadata": {},
   "source": [
    "# P11\n",
    "Level 2  \n",
    "Question:  \n",
    "Write a program that accepts a sentence and calculate the number of upper case letters and lower case letters.  \n",
    "Suppose the following input is supplied to the program:  \n",
    "Hello world!  \n",
    "Then, the output should be:  \n",
    "UPPER CASE 1  \n",
    "LOWER CASE 9  "
   ]
  },
  {
   "cell_type": "markdown",
   "id": "7c0fa938-63e7-4011-8e84-8dbca8f47326",
   "metadata": {},
   "source": [
    "# P12\n",
    "\n",
    "Write a function that takes a string and return its value. For this exercise consider the following:\n",
    "- The value of a string equals the sum of its letters (lowercase letters amount to their order value alphabetically and uppercase letters the double of their lower counterparts)\n",
    "- Any other character should be ignored in the calculation  \n",
    "  \n",
    "Exampe:  \n",
    "input: 'Zy!'  \n",
    "output: 77 (Z is 2x26 and y is 25. value of Zy is 2x26 + 25)  \n"
   ]
  },
  {
   "cell_type": "markdown",
   "id": "d0da34a3-4beb-42da-b10c-930f5fd02d49",
   "metadata": {},
   "source": [
    "# P13\n",
    "\n",
    "This is part 2 of the previous exercise. Write a function that takes two strings and return the one with the most high value. Use in your code the function written in P12.\n",
    "Example:\n",
    "Input: 'Zy', 'claver'\n",
    "output: 'Zy'  \n",
    "Explanation: \"Zy\"'s value is 77. \"Claver\"'s is 52  "
   ]
  },
  {
   "cell_type": "markdown",
   "id": "bbb00d49-6535-4751-86ea-768ecdbd9961",
   "metadata": {},
   "source": [
    "# p14\n",
    "\n",
    "Level 2  \n",
    "Question:  \n",
    "Write a program that computes the net amount of a bank account based a transaction log from console input.  \n",
    "The transaction log format is shown as following:  \n",
    "D 100  \n",
    "W 200  \n",
    "D means deposit while W means withdrawal.  \n",
    "Suppose the following input is supplied to the program:  \n",
    "D 300  \n",
    "D 300  \n",
    "W 200  \n",
    "D 100  \n",
    "Then, the output should be:  \n",
    "500"
   ]
  },
  {
   "cell_type": "markdown",
   "id": "d90a8682-6af1-4c80-9b4c-2da34dc00cd8",
   "metadata": {},
   "source": [
    "# P15\n",
    "\n",
    "Level 3  \n",
    "Question:  \n",
    "A website requires the users to input username and password to register.  \n",
    "Write a program to check the validity of password input by users.  \n",
    "Following are the criteria for checking the password:  \n",
    "1. At least 1 letter between [a-z]  \n",
    "2. At least 1 number between [0-9]  \n",
    "1. At least 1 letter between [A-Z]  \n",
    "3. At least 1 character from [$#@]  \n",
    "4. Minimum length of transaction password: 6  \n",
    "5. Maximum length of transaction password: 12  \n",
    "Your program should accept a sequence of comma separated passwords and will check them according to the above criteria.  \n",
    "Passwords that match the criteria are to be printed, each separated by a comma.  \n",
    "\n",
    "Example  \n",
    "If the following passwords are given as input to the program:  \n",
    "ABd1234@1,a F1#,2w3E*,2We3345  \n",
    "Then, the output of the program should be:  \n",
    "ABd1234@1  "
   ]
  },
  {
   "cell_type": "markdown",
   "id": "1e2397c6-1671-4d64-813b-10f1458866aa",
   "metadata": {},
   "source": [
    "# P16\n",
    "\n",
    "Level 3  \n",
    "Question:  \n",
    "You are required to write a program to sort the (name, age, height) tuples by ascending order  \n",
    "where name is string, age and height are numbers. The tuples are input by console. The sort criteria is:  \n",
    "1: Sort based on name;  \n",
    "2: Then sort based on age;  \n",
    "3: Then sort by score.  \n",
    "The priority is that name > age > score.  \n",
    "If the following tuples are given as input to the program:  \n",
    "Tom,19,80  \n",
    "John,20,90  \n",
    "Jony,17,91  \n",
    "Jony,17,93  \n",
    "Json,21,85  \n",
    "Then, the output of the program should be:  \n",
    "[('John', '20', '90'), ('Jony', '17', '91'), ('Jony', '17', '93'), ('Json', '21', '85'), ('Tom', '19', '80')]  "
   ]
  },
  {
   "cell_type": "markdown",
   "id": "3dd1a6f9-641c-4c01-8468-0530b18ba340",
   "metadata": {},
   "source": [
    "# P17\n",
    "\n",
    "Level 3  \n",
    "Question:  \n",
    "Write a program to compute the frequency of the words from the input. The output should output after sorting the key alphanumerically.  \n",
    "Suppose the following input is supplied to the program:  \n",
    "New to Python or choosing between Python 2 and Python 3? Read Python 2 or Python 3.  \n",
    "Then, the output should be:  \n",
    "2:2  \n",
    "3.:1  \n",
    "3?:1  \n",
    "New:1  \n",
    "Python:5  \n",
    "Read:1  \n",
    "and:1  \n",
    "between:1  \n",
    "choosing:1  \n",
    "or:2  \n",
    "to:1  "
   ]
  },
  {
   "cell_type": "code",
   "execution_count": null,
   "id": "9f890b81-69c4-4feb-9627-3246849f2b29",
   "metadata": {},
   "outputs": [],
   "source": []
  }
 ],
 "metadata": {
  "kernelspec": {
   "display_name": "Python 3 (ipykernel)",
   "language": "python",
   "name": "python3"
  },
  "language_info": {
   "codemirror_mode": {
    "name": "ipython",
    "version": 3
   },
   "file_extension": ".py",
   "mimetype": "text/x-python",
   "name": "python",
   "nbconvert_exporter": "python",
   "pygments_lexer": "ipython3",
   "version": "3.9.13"
  }
 },
 "nbformat": 4,
 "nbformat_minor": 5
}
